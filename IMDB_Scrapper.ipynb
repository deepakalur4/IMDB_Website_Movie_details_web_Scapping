{
 "cells": [
  {
   "cell_type": "raw",
   "id": "62aa57cb",
   "metadata": {},
   "source": [
    "Task: Web Scraping\n",
    "\n",
    "Your task is to scrape all Hindi movies data, including name, year, director, rating, genre, top 5 cast, and image poster, and update this information in an Excel sheet. Scraping the data is at your discretion; you can scrape from any website.\n",
    "\n",
    "Note:\n",
    "1. In the image column, you need to scrape the URL for the particular movie image.\n",
    "2. You have to submit your Excel sheet along with the Python script with clear documentation."
   ]
  },
  {
   "cell_type": "code",
   "execution_count": 416,
   "id": "93b0a9a1",
   "metadata": {},
   "outputs": [],
   "source": [
    "import pandas as pd\n",
    "from bs4 import BeautifulSoup\n",
    "import requests\n",
    "import numpy as np\n"
   ]
  },
  {
   "cell_type": "code",
   "execution_count": 417,
   "id": "3dabbc6d",
   "metadata": {},
   "outputs": [],
   "source": [
    "url=\"https://www.imdb.com/list/ls009997493/\""
   ]
  },
  {
   "cell_type": "code",
   "execution_count": 418,
   "id": "cd89c1c2",
   "metadata": {},
   "outputs": [],
   "source": [
    "response=requests.get(url).text\n",
    "soup=BeautifulSoup(response,'html.parser')"
   ]
  },
  {
   "cell_type": "code",
   "execution_count": 419,
   "id": "fa75a356",
   "metadata": {},
   "outputs": [],
   "source": [
    "data=dict()"
   ]
  },
  {
   "cell_type": "code",
   "execution_count": 420,
   "id": "2deae19d",
   "metadata": {},
   "outputs": [],
   "source": [
    "moviedata = soup.find('div', class_=\"lister-list\")\n",
    "particular_movie_data=moviedata.find_all(\"div\",class_=\"lister-item mode-detail\")\n",
    "for i in (particular_movie_data):\n",
    "    top_5_cast=list()\n",
    "    image_block=i.find(\"div\",class_=\"lister-item-image ribbonize\")\n",
    "    image=image_block.find(\"a\")    \n",
    "    img_tag = image.find('img', class_='loadlate')\n",
    "    loadlate_url = img_tag.get('loadlate')\n",
    "    details=i.find(\"div\",class_=\"lister-item-content\")\n",
    "    actor_block=details.find_all(\"p\",class_=\"text-muted text-small\")\n",
    "    for i,j in enumerate(actor_block):\n",
    "        if i==1:\n",
    "            b=(j.find_all(\"a\"))\n",
    "            for u in b:\n",
    "                top_5_cast.append(u.text)\n",
    "    movie_name=details.find(\"a\").text.strip()\n",
    "    movie_year=details.find(\"span\",class_=\"lister-item-year text-muted unbold\").text.strip()\n",
    "    Movie_genre=details.find(\"span\",class_=\"genre\").text.replace(\"\\n\",\"\").strip()\n",
    "    Movie_rating=details.find(\"span\",class_=\"ipl-rating-star__rating\").text.strip()\n",
    "    for i,j in enumerate(details.find_all(\"a\")):\n",
    "        if i==12:\n",
    "            Movie_director=(j.text.strip())\n",
    "    data2=[movie_year,Movie_genre,Movie_rating,Movie_director,top_5_cast[1:],loadlate_url]\n",
    "    data[movie_name]=data2\n"
   ]
  },
  {
   "cell_type": "code",
   "execution_count": 421,
   "id": "b979b1a8",
   "metadata": {},
   "outputs": [],
   "source": [
    "import pandas as pd"
   ]
  },
  {
   "cell_type": "code",
   "execution_count": 422,
   "id": "88a82566",
   "metadata": {},
   "outputs": [],
   "source": [
    "df=pd.DataFrame(data).T"
   ]
  },
  {
   "cell_type": "code",
   "execution_count": 423,
   "id": "6b9e4bbb",
   "metadata": {},
   "outputs": [],
   "source": [
    "df.columns=[\"year\",\"genre\",\"rating\",\"Director\",\"Top_5_cast\",\"Images\"]"
   ]
  },
  {
   "cell_type": "code",
   "execution_count": 424,
   "id": "1b36a338",
   "metadata": {},
   "outputs": [
    {
     "data": {
      "text/html": [
       "<div>\n",
       "<style scoped>\n",
       "    .dataframe tbody tr th:only-of-type {\n",
       "        vertical-align: middle;\n",
       "    }\n",
       "\n",
       "    .dataframe tbody tr th {\n",
       "        vertical-align: top;\n",
       "    }\n",
       "\n",
       "    .dataframe thead th {\n",
       "        text-align: right;\n",
       "    }\n",
       "</style>\n",
       "<table border=\"1\" class=\"dataframe\">\n",
       "  <thead>\n",
       "    <tr style=\"text-align: right;\">\n",
       "      <th></th>\n",
       "      <th>year</th>\n",
       "      <th>genre</th>\n",
       "      <th>rating</th>\n",
       "      <th>Director</th>\n",
       "      <th>Top_5_cast</th>\n",
       "      <th>Images</th>\n",
       "    </tr>\n",
       "  </thead>\n",
       "  <tbody>\n",
       "    <tr>\n",
       "      <th>Rang De Basanti</th>\n",
       "      <td>(2006)</td>\n",
       "      <td>Comedy, Crime, Drama</td>\n",
       "      <td>8.1</td>\n",
       "      <td>Rakeysh Omprakash Mehra</td>\n",
       "      <td>[Aamir Khan, Soha Ali Khan, Siddharth, Sharman...</td>\n",
       "      <td>https://m.media-amazon.com/images/M/MV5BYThmZD...</td>\n",
       "    </tr>\n",
       "    <tr>\n",
       "      <th>3 Idiots</th>\n",
       "      <td>(2009)</td>\n",
       "      <td>Comedy, Drama</td>\n",
       "      <td>8.4</td>\n",
       "      <td>Rajkumar Hirani</td>\n",
       "      <td>[Aamir Khan, Madhavan, Mona Singh, Sharman Joshi]</td>\n",
       "      <td>https://m.media-amazon.com/images/M/MV5BNTkyOG...</td>\n",
       "    </tr>\n",
       "    <tr>\n",
       "      <th>Taare Zameen Par</th>\n",
       "      <td>(2007)</td>\n",
       "      <td>Drama, Family</td>\n",
       "      <td>8.3</td>\n",
       "      <td>Aamir Khan</td>\n",
       "      <td>[Amole Gupte, Darsheel Safary, Aamir Khan, Tis...</td>\n",
       "      <td>https://m.media-amazon.com/images/M/MV5BYjY0MG...</td>\n",
       "    </tr>\n",
       "    <tr>\n",
       "      <th>Dil Chahta Hai</th>\n",
       "      <td>(2001)</td>\n",
       "      <td>Comedy, Drama, Romance</td>\n",
       "      <td>8.1</td>\n",
       "      <td>Farhan Akhtar</td>\n",
       "      <td>[Aamir Khan, Saif Ali Khan, Akshaye Khanna, Pr...</td>\n",
       "      <td>https://m.media-amazon.com/images/M/MV5BMjRjMT...</td>\n",
       "    </tr>\n",
       "    <tr>\n",
       "      <th>Swades: We, the People</th>\n",
       "      <td>(2004)</td>\n",
       "      <td>Drama, Musical</td>\n",
       "      <td>8.2</td>\n",
       "      <td>Ashutosh Gowariker</td>\n",
       "      <td>[Shah Rukh Khan, Gayatri Joshi, Kishori Ballal...</td>\n",
       "      <td>https://m.media-amazon.com/images/M/MV5BODY2NG...</td>\n",
       "    </tr>\n",
       "  </tbody>\n",
       "</table>\n",
       "</div>"
      ],
      "text/plain": [
       "                          year                   genre rating  \\\n",
       "Rang De Basanti         (2006)    Comedy, Crime, Drama    8.1   \n",
       "3 Idiots                (2009)           Comedy, Drama    8.4   \n",
       "Taare Zameen Par        (2007)           Drama, Family    8.3   \n",
       "Dil Chahta Hai          (2001)  Comedy, Drama, Romance    8.1   \n",
       "Swades: We, the People  (2004)          Drama, Musical    8.2   \n",
       "\n",
       "                                       Director  \\\n",
       "Rang De Basanti         Rakeysh Omprakash Mehra   \n",
       "3 Idiots                        Rajkumar Hirani   \n",
       "Taare Zameen Par                     Aamir Khan   \n",
       "Dil Chahta Hai                    Farhan Akhtar   \n",
       "Swades: We, the People       Ashutosh Gowariker   \n",
       "\n",
       "                                                               Top_5_cast  \\\n",
       "Rang De Basanti         [Aamir Khan, Soha Ali Khan, Siddharth, Sharman...   \n",
       "3 Idiots                [Aamir Khan, Madhavan, Mona Singh, Sharman Joshi]   \n",
       "Taare Zameen Par        [Amole Gupte, Darsheel Safary, Aamir Khan, Tis...   \n",
       "Dil Chahta Hai          [Aamir Khan, Saif Ali Khan, Akshaye Khanna, Pr...   \n",
       "Swades: We, the People  [Shah Rukh Khan, Gayatri Joshi, Kishori Ballal...   \n",
       "\n",
       "                                                                   Images  \n",
       "Rang De Basanti         https://m.media-amazon.com/images/M/MV5BYThmZD...  \n",
       "3 Idiots                https://m.media-amazon.com/images/M/MV5BNTkyOG...  \n",
       "Taare Zameen Par        https://m.media-amazon.com/images/M/MV5BYjY0MG...  \n",
       "Dil Chahta Hai          https://m.media-amazon.com/images/M/MV5BMjRjMT...  \n",
       "Swades: We, the People  https://m.media-amazon.com/images/M/MV5BODY2NG...  "
      ]
     },
     "execution_count": 424,
     "metadata": {},
     "output_type": "execute_result"
    }
   ],
   "source": [
    "df.head()"
   ]
  },
  {
   "cell_type": "code",
   "execution_count": 425,
   "id": "2b4aaf94",
   "metadata": {},
   "outputs": [],
   "source": [
    "df.to_csv(\"IMDB_Details.csv\")"
   ]
  }
 ],
 "metadata": {
  "kernelspec": {
   "display_name": "Python 3 (ipykernel)",
   "language": "python",
   "name": "python3"
  },
  "language_info": {
   "codemirror_mode": {
    "name": "ipython",
    "version": 3
   },
   "file_extension": ".py",
   "mimetype": "text/x-python",
   "name": "python",
   "nbconvert_exporter": "python",
   "pygments_lexer": "ipython3",
   "version": "3.12.0"
  }
 },
 "nbformat": 4,
 "nbformat_minor": 5
}
